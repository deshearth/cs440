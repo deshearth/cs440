{
 "cells": [
  {
   "cell_type": "markdown",
   "metadata": {
    "collapsed": true
   },
   "source": [
    "# evaluation"
   ]
  },
  {
   "cell_type": "code",
   "execution_count": 2,
   "metadata": {
    "collapsed": false
   },
   "outputs": [
    {
     "name": "stderr",
     "output_type": "stream",
     "text": [
      "/Users/melancholymirth/miniconda3/envs/python2/lib/python2.7/site-packages/matplotlib/font_manager.py:273: UserWarning: Matplotlib is building the font cache using fc-list. This may take a moment.\n",
      "  warnings.warn('Matplotlib is building the font cache using fc-list. This may take a moment.')\n"
     ]
    }
   ],
   "source": [
    "from text_classfiy_func import get_data, evaluation\n",
    "import os\n",
    "import matplotlib.pyplot as plt\n",
    "import pandas as pd\n",
    "import numpy as np"
   ]
  },
  {
   "cell_type": "code",
   "execution_count": 26,
   "metadata": {
    "collapsed": false
   },
   "outputs": [
    {
     "name": "stdout",
     "output_type": "stream",
     "text": [
      "data: fisher\t model: mnb\n",
      "confusion matrix:\n",
      "[[ 0.98  0.02]\n",
      " [ 0.14  0.86]]\n",
      "accuracy: 0.918367346939\n",
      "\n"
     ]
    },
    {
     "data": {
      "image/png": "[encoded data removed]",
      "text/plain": [
       "<matplotlib.figure.Figure at 0x11b656f10>"
      ]
     },
     "metadata": {},
     "output_type": "display_data"
    },
    {
     "name": "stdout",
     "output_type": "stream",
     "text": [
      "top10 for -1:\n",
      "             -1         1  neg_over_pos  pos_over_neg\n",
      "know   0.054455  0.051526      1.056859      0.946200\n",
      "yeah   0.045348  0.045408      0.998685      1.001317\n",
      "uh     0.030341  0.021921      1.384076      0.722504\n",
      "like   0.029623  0.028890      1.025369      0.975258\n",
      "um     0.022989  0.019603      1.172699      0.852734\n",
      "right  0.019328  0.018483      1.045704      0.956294\n",
      "just   0.017978  0.016492      1.090081      0.917363\n",
      "think  0.017686  0.017068      1.036223      0.965043\n",
      "oh     0.016232  0.014817      1.095519      0.912810\n",
      "don    0.015901  0.017334      0.917286      1.090173\n",
      "top10 for 1:\n",
      "             -1         1  neg_over_pos  pos_over_neg\n",
      "know   0.054455  0.051526      1.056859      0.946200\n",
      "yeah   0.045348  0.045408      0.998685      1.001317\n",
      "like   0.029623  0.028890      1.025369      0.975258\n",
      "uh     0.030341  0.021921      1.384076      0.722504\n",
      "um     0.022989  0.019603      1.172699      0.852734\n",
      "right  0.019328  0.018483      1.045704      0.956294\n",
      "don    0.015901  0.017334      0.917286      1.090173\n",
      "think  0.017686  0.017068      1.036223      0.965043\n",
      "just   0.017978  0.016492      1.090081      0.917363\n",
      "oh     0.016232  0.014817      1.095519      0.912810\n",
      "top10 for neg_over_pos odds ratio:\n",
      "                     -1         1  neg_over_pos  pos_over_neg\n",
      "relationship   0.002866  0.000014    198.066465      0.005049\n",
      "compatibility  0.000347  0.000003    119.815367      0.008346\n",
      "communication  0.000675  0.000006    116.634428      0.008574\n",
      "marriage       0.001298  0.000012    112.128098      0.008918\n",
      "partner        0.004400  0.000041    108.606344      0.009208\n",
      "relationships  0.000835  0.000009     96.135043      0.010402\n",
      "friendship     0.000276  0.000003     95.428168      0.010479\n",
      "attracted      0.000273  0.000003     94.367855      0.010597\n",
      "dating         0.000773  0.000009     89.066290      0.011228\n",
      "compatible     0.000479  0.000006     82.704412      0.012091                \n",
      "top10 for pos_over_neg odds ratio:\n",
      "                  -1         1  neg_over_pos  pos_over_neg\n",
      "wage        0.000098  0.014773      0.006646    150.456755\n",
      "minimum     0.000098  0.014759      0.006653    150.309393\n",
      "welfare     0.000006  0.000790      0.007768    128.735574\n",
      "wages       0.000006  0.000692      0.008873    112.702572\n",
      "inflation   0.000003  0.000278      0.011045     90.539305\n",
      "waitresses  0.000003  0.000237      0.012931     77.335656\n",
      "tax         0.000009  0.000703      0.013090     76.392538\n",
      "waitress    0.000003  0.000211      0.014525     68.847596\n",
      "salary      0.000006  0.000399      0.015367     65.075125\n",
      "increase    0.000015  0.000897      0.017102     58.473301\n",
      "\n",
      "\n",
      "\n",
      "data: fisher\t model: bnb\n",
      "confusion matrix:\n",
      "[[ 0.92  0.08]\n",
      " [ 0.02  0.98]]\n",
      "accuracy: 0.948979591837\n",
      "\n"
     ]
    },
    {
     "data": {
      "image/png": "[encoded data removed]",
      "text/plain": [
       "<matplotlib.figure.Figure at 0x115ed0a50>"
      ]
     },
     "metadata": {},
     "output_type": "display_data"
    },
    {
     "name": "stdout",
     "output_type": "stream",
     "text": [
      "top10 for -1:\n",
      "              -1         1  neg_over_pos  pos_over_neg\n",
      "know    0.997727  0.997738      0.999990      1.000010\n",
      "like    0.997727  0.997738      0.999990      1.000010\n",
      "just    0.995455  0.997738      0.997712      1.002293\n",
      "think   0.993182  0.997738      0.995434      1.004587\n",
      "don     0.993182  0.997738      0.995434      1.004587\n",
      "yeah    0.993182  0.995475      0.997696      1.002309\n",
      "um      0.981818  0.997738      0.984045      1.016214\n",
      "right   0.979545  0.988688      0.990753      1.009333\n",
      "oh      0.977273  0.990950      0.986198      1.013996\n",
      "really  0.972727  0.988688      0.983857      1.016408\n",
      "top10 for 1:\n",
      "              -1         1  neg_over_pos  pos_over_neg\n",
      "like    0.997727  0.997738      0.999990      1.000010\n",
      "think   0.993182  0.997738      0.995434      1.004587\n",
      "don     0.993182  0.997738      0.995434      1.004587\n",
      "just    0.995455  0.997738      0.997712      1.002293\n",
      "know    0.997727  0.997738      0.999990      1.000010\n",
      "um      0.981818  0.997738      0.984045      1.016214\n",
      "yeah    0.993182  0.995475      0.997696      1.002309\n",
      "people  0.931818  0.995475      0.936054      1.068315\n",
      "oh      0.977273  0.990950      0.986198      1.013996\n",
      "really  0.972727  0.988688      0.983857      1.016408\n",
      "top10 for neg_over_pos odds ratio:\n",
      "                     -1         1  neg_over_pos  pos_over_neg\n",
      "relationship   0.647727  0.011312     57.259091      0.017464\n",
      "relationships  0.329545  0.006787     48.553030      0.020596\n",
      "marriage       0.413636  0.009050     45.706818      0.021879\n",
      "communication  0.206818  0.004525     45.706818      0.021879\n",
      "dating         0.302273  0.006787     44.534848      0.022454\n",
      "qualities      0.190909  0.004525     42.190909      0.023702\n",
      "compatible     0.165909  0.004525     36.665909      0.027273\n",
      "partner        0.815909  0.022624     36.063182      0.027729\n",
      "humor          0.156818  0.004525     34.656818      0.028854\n",
      "attracted      0.145455  0.004525     32.145455      0.031109                \n",
      "top10 for pos_over_neg odds ratio:\n",
      "                 -1         1  neg_over_pos  pos_over_neg\n",
      "wage       0.011364  0.871041      0.013046     76.651584\n",
      "wages      0.004545  0.312217      0.014559     68.687783\n",
      "minimum    0.015909  0.871041      0.018264     54.751131\n",
      "welfare    0.004545  0.230769      0.019697     50.769231\n",
      "salary     0.004545  0.205882      0.022078     45.294118\n",
      "increase   0.009091  0.352941      0.025758     38.823529\n",
      "tax        0.006818  0.230769      0.029545     33.846154\n",
      "employers  0.004545  0.147059      0.030909     32.352941\n",
      "inflation  0.004545  0.140271      0.032405     30.859729\n",
      "poverty    0.004545  0.133484      0.034052     29.366516\n",
      "\n",
      "\n",
      "\n",
      "data: movie\t model: mnb\n",
      "confusion matrix:\n",
      "[[ 0.76  0.24]\n",
      " [ 0.23  0.77]]\n",
      "accuracy: 0.761\n",
      "\n"
     ]
    },
    {
     "data": {
      "image/png": "[encoded data removed]",
      "text/plain": [
       "<matplotlib.figure.Figure at 0x114b48d50>"
      ]
     },
     "metadata": {},
     "output_type": "display_data"
    },
    {
     "name": "stdout",
     "output_type": "stream",
     "text": [
      "top10 for -1:\n",
      "             -1         1  neg_over_pos  pos_over_neg\n",
      "movie  0.009317  0.005952      1.565366      0.638828\n",
      "film   0.007300  0.009054      0.806213      1.240368\n",
      "like   0.005251  0.003166      1.658535      0.602942\n",
      "one    0.004610  0.003546      1.300245      0.769086\n",
      "--     0.003682  0.004337      0.848903      1.177991\n",
      "bad    0.002817  0.000317      8.899456      0.112366\n",
      "story  0.002753  0.003008      0.915494      1.092306\n",
      "much   0.002689  0.002121      1.267901      0.788705\n",
      "time   0.002433  0.002343      1.038634      0.962803\n",
      "even   0.002273  0.002438      0.932499      1.072387\n",
      "top10 for 1:\n",
      "              -1         1  neg_over_pos  pos_over_neg\n",
      "film    0.007300  0.009054      0.806213      1.240368\n",
      "movie   0.009317  0.005952      1.565366      0.638828\n",
      "--      0.003682  0.004337      0.848903      1.177991\n",
      "one     0.004610  0.003546      1.300245      0.769086\n",
      "like    0.005251  0.003166      1.658535      0.602942\n",
      "story   0.002753  0.003008      0.915494      1.092306\n",
      "good    0.002081  0.002691      0.773348      1.293078\n",
      "comedy  0.001857  0.002659      0.698280      1.432091\n",
      "way     0.001473  0.002564      0.574320      1.741191\n",
      "even    0.002273  0.002438      0.932499      1.072387\n",
      "top10 for neg_over_pos odds ratio:\n",
      "                -1         1  neg_over_pos  pos_over_neg\n",
      "flat      0.000480  0.000032     15.169527      0.065922\n",
      "stale     0.000448  0.000032     14.158225      0.070630\n",
      "dull      0.000864  0.000063     13.652574      0.073246\n",
      "tired     0.000384  0.000032     12.135621      0.082402\n",
      "mediocre  0.000352  0.000032     11.124320      0.089893\n",
      "plain     0.000352  0.000032     11.124320      0.089893\n",
      "bore      0.000320  0.000032     10.113018      0.098882\n",
      "generic   0.000320  0.000032     10.113018      0.098882\n",
      "unfunny   0.000320  0.000032     10.113018      0.098882\n",
      "poorly    0.000320  0.000032     10.113018      0.098882                \n",
      "top10 for pos_over_neg odds ratio:\n",
      "                    -1         1  neg_over_pos  pos_over_neg\n",
      "disturbing    0.000032  0.000475      0.067420     14.832368\n",
      "engrossing    0.000032  0.000348      0.091937     10.877070\n",
      "haunting      0.000032  0.000348      0.091937     10.877070\n",
      "grief         0.000032  0.000348      0.091937     10.877070\n",
      "refreshingly  0.000032  0.000348      0.091937     10.877070\n",
      "affecting     0.000032  0.000317      0.101130      9.888245\n",
      "inventive     0.000032  0.000317      0.101130      9.888245\n",
      "gripping      0.000032  0.000317      0.101130      9.888245\n",
      "polished      0.000032  0.000317      0.101130      9.888245\n",
      "gem           0.000032  0.000317      0.101130      9.888245\n",
      "\n",
      "\n",
      "\n",
      "data: movie\t model: bnb\n",
      "confusion matrix:\n",
      "[[ 0.75  0.25]\n",
      " [ 0.24  0.76]]\n",
      "accuracy: 0.751\n",
      "\n"
     ]
    },
    {
     "data": {
      "image/png": "[encoded data removed]",
      "text/plain": [
       "<matplotlib.figure.Figure at 0x11b647950>"
      ]
     },
     "metadata": {},
     "output_type": "display_data"
    },
    {
     "name": "stdout",
     "output_type": "stream",
     "text": [
      "top10 for -1:\n",
      "             -1         1  neg_over_pos  pos_over_neg\n",
      "movie  0.141858  0.089910      1.577778      0.633803\n",
      "film   0.111888  0.140859      0.794326      1.258929\n",
      "like   0.078422  0.049451      1.585859      0.630573\n",
      "one    0.068931  0.054945      1.254545      0.797101\n",
      "story  0.042458  0.045455      0.934066      1.070588\n",
      "much   0.041459  0.033467      1.238806      0.807229\n",
      "--     0.040460  0.048951      0.826531      1.209877\n",
      "bad    0.038462  0.004995      7.700000      0.129870\n",
      "time   0.036464  0.035465      1.028169      0.972603\n",
      "even   0.034965  0.038462      0.909091      1.100000\n",
      "top10 for 1:\n",
      "              -1         1  neg_over_pos  pos_over_neg\n",
      "film    0.111888  0.140859      0.794326      1.258929\n",
      "movie   0.141858  0.089910      1.577778      0.633803\n",
      "one     0.068931  0.054945      1.254545      0.797101\n",
      "like    0.078422  0.049451      1.585859      0.630573\n",
      "--      0.040460  0.048951      0.826531      1.209877\n",
      "story   0.042458  0.045455      0.934066      1.070588\n",
      "comedy  0.028971  0.040959      0.707317      1.413793\n",
      "way     0.022977  0.039461      0.582278      1.717391\n",
      "even    0.034965  0.038462      0.909091      1.100000\n",
      "good    0.030969  0.036963      0.837838      1.193548\n",
      "top10 for neg_over_pos odds ratio:\n",
      "              -1         1  neg_over_pos  pos_over_neg\n",
      "dull    0.012987  0.000999          13.0      0.076923\n",
      "bad     0.038462  0.004995           7.7      0.129870\n",
      "bland   0.007493  0.000999           7.5      0.133333\n",
      "flat    0.007493  0.000999           7.5      0.133333\n",
      "jokes   0.007493  0.000999           7.5      0.133333\n",
      "tv      0.007493  0.000999           7.5      0.133333\n",
      "cold    0.006993  0.000999           7.0      0.142857\n",
      "stale   0.006993  0.000999           7.0      0.142857\n",
      "boring  0.006993  0.000999           7.0      0.142857\n",
      "awful   0.006494  0.000999           6.5      0.153846                \n",
      "top10 for pos_over_neg odds ratio:\n",
      "                  -1         1  neg_over_pos  pos_over_neg\n",
      "epic        0.000999  0.006993      0.142857      7.000000\n",
      "thanks      0.000999  0.006993      0.142857      7.000000\n",
      "disturbing  0.000999  0.006993      0.142857      7.000000\n",
      "warm        0.000999  0.006494      0.153846      6.500000\n",
      "hilarious   0.000999  0.006494      0.153846      6.500000\n",
      "among       0.000999  0.006494      0.153846      6.500000\n",
      "cinema      0.001998  0.012987      0.153846      6.500000\n",
      "quiet       0.000999  0.006494      0.153846      6.500000\n",
      "touching    0.001499  0.009491      0.157895      6.333333\n",
      "thoughtful  0.000999  0.005994      0.166667      6.000000\n",
      "\n",
      "\n",
      "\n"
     ]
    }
   ],
   "source": [
    "fisher, movie = get_data()\n",
    "out_dir = os.path.join(os.path.dirname(os.getcwd()), 'output')\n",
    "for data_name in ['fisher', 'movie']:\n",
    "    for model_name in ['mnb', 'bnb']:\n",
    "        model = {}\n",
    "        model_fname = os.path.join(out_dir, data_name+'_'+model_name)\n",
    "        pred_fname = model_fname + '_pred'\n",
    "        model['likelihoods'] = pd.read_pickle(model_fname+'_likelihoods')\n",
    "        model['priors'] = np.loadtxt(model_fname+'_priors')\n",
    "        pred_vals = np.loadtxt(pred_fname)\n",
    "        data = fisher if data_name is 'fisher' else movie\n",
    "        confusion_matrix, accuracy = evaluation(pred_vals.astype('int'), data['test'])\n",
    "        print \"data: {}\\t model: {}\\nconfusion matrix:\\n{}\\naccuracy: {}\\n\".format(data_name, model_name, \n",
    "                                                                                     confusion_matrix, accuracy)\n",
    "        plt.figure()\n",
    "        plt.imshow(confusion_matrix, interpolation='nearest', cmap='jet')\n",
    "        plt.colorbar()\n",
    "        plt.axis('off')\n",
    "        plt.show()\n",
    "        model['likelihoods']['neg_over_pos'] = model['likelihoods'][-1] / model['likelihoods'][1]\n",
    "        model['likelihoods']['pos_over_neg'] = model['likelihoods'][1] / model['likelihoods'][-1]\n",
    "        print \"top10 for -1:\\n{}\\ntop10 for 1:\\n{}\\ntop10 for neg_over_pos odds ratio:\\n{} \\\n",
    "               \\ntop10 for pos_over_neg odds ratio:\\n{}\\n\\n\".format(\n",
    "                                          model['likelihoods'].sort_values(by=-1, ascending=False).head(10),\n",
    "                                          model['likelihoods'].sort_values(by=1, ascending=False).head(10),\n",
    "                                          model['likelihoods'].sort_values(by='neg_over_pos', ascending=False).head(10),\n",
    "                                          model['likelihoods'].sort_values(by='pos_over_neg', ascending=False).head(10))\n",
    "       \n",
    "        print "
   ]
  },
  {
   "cell_type": "code",
   "execution_count": null,
   "metadata": {
    "collapsed": true
   },
   "outputs": [],
   "source": []
  }
 ],
 "metadata": {
  "anaconda-cloud": {},
  "kernelspec": {
   "display_name": "Python 2",
   "language": "python",
   "name": "python2"
  },
  "language_info": {
   "codemirror_mode": {
    "name": "ipython",
    "version": 2
   },
   "file_extension": ".py",
   "mimetype": "text/x-python",
   "name": "python",
   "nbconvert_exporter": "python",
   "pygments_lexer": "ipython2",
   "version": "2.7.12"
  }
 },
 "nbformat": 4,
 "nbformat_minor": 1
}
